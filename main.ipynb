{
 "cells": [
  {
   "cell_type": "markdown",
   "id": "d8c4961d",
   "metadata": {},
   "source": [
    "<h1>Face Detection</h1>"
   ]
  },
  {
   "cell_type": "code",
   "execution_count": null,
   "id": "f670dcb0",
   "metadata": {},
   "outputs": [],
   "source": [
    "import cv2\n",
    "import mediapipe as mp\n",
    "\n",
    "mp_face_detection = mp.solutions.face_detection\n",
    "mp_drawing = mp.solutions.drawing_utils\n",
    "\n",
    "face_detection = mp_face_detection.FaceDetection(\n",
    "    model_selection=1,  \n",
    "    min_detection_confidence=0.5\n",
    ")\n",
    "\n",
    "image = cv2.imread('./Data/1 (921).jpg')\n",
    "image_rgb = cv2.cvtColor(image, cv2.COLOR_BGR2RGB)\n",
    "\n",
    "results = face_detection.process(image_rgb)\n",
    "\n",
    "if results.detections:\n",
    "    for i, detection in enumerate(results.detections):\n",
    "        bboxC = detection.location_data.relative_bounding_box\n",
    "        ih, iw, _ = image.shape\n",
    "        \n",
    "        x = int(bboxC.xmin * iw)\n",
    "        y = int(bboxC.ymin * ih)\n",
    "        w = int(bboxC.width * iw)\n",
    "        h = int(bboxC.height * ih)\n",
    "        \n",
    "        face_img = image[y:y+h, x:x+w]\n",
    "        cv2.imwrite(f'face_{i}.jpg', face_img)"
   ]
  }
 ],
 "metadata": {
  "kernelspec": {
   "display_name": "dptVenv",
   "language": "python",
   "name": "python3"
  },
  "language_info": {
   "codemirror_mode": {
    "name": "ipython",
    "version": 3
   },
   "file_extension": ".py",
   "mimetype": "text/x-python",
   "name": "python",
   "nbconvert_exporter": "python",
   "pygments_lexer": "ipython3",
   "version": "3.11.4"
  }
 },
 "nbformat": 4,
 "nbformat_minor": 5
}
