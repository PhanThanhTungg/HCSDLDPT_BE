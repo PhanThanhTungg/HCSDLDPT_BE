{
 "cells": [
  {
   "cell_type": "markdown",
   "id": "d8c4961d",
   "metadata": {},
   "source": [
    "<h1>Pre-Processing</h1>\n",
    "<ul>\n",
    "\t<li>Equalize histogram</li>\n",
    "\t<li>Resize</li>\n",
    "\t<li>Save Data</li>\n",
    "</ul>"
   ]
  },
  {
   "cell_type": "code",
   "execution_count": null,
   "id": "efdc0b04",
   "metadata": {},
   "outputs": [],
   "source": [
    "import numpy as np\n",
    "\n",
    "def histogram_equalization(img):\n",
    "\tflat = img.flatten()\n",
    "\thist = [0] * 256\n",
    "\tfor pixel in flat:\n",
    "\t\thist[pixel] += 1\n",
    "\n",
    "\tcdf = [0] * 256\n",
    "\tcdf[0] = hist[0]\n",
    "\tfor i in range(1, 256):\n",
    "\t\tcdf[i] = cdf[i-1] + hist[i]\n",
    "\tcdf_min = min([x for x in cdf if x > 0])\n",
    "\ttotal = flat.size\n",
    "\n",
    "\tlut = [0] * 256\n",
    "\tfor i in range(256):\n",
    "\t\tlut[i] = round((cdf[i] - cdf_min) / (total - cdf_min) * 255)\n",
    "\t\tlut[i] = max(0, min(255, lut[i]))\n",
    "\n",
    "\tequalized = [lut[p] for p in flat]\n",
    "\treturn np.array(equalized, dtype=np.uint8).reshape(img.shape)"
   ]
  },
  {
   "cell_type": "code",
   "execution_count": 22,
   "id": "39acadc0",
   "metadata": {},
   "outputs": [],
   "source": [
    "def resize_image(img, new_width, new_height):\n",
    "\th, w = img.shape[:2]\n",
    "\tif len(img.shape) == 3:\n",
    "\t\tc = img.shape[2]\n",
    "\t\tresized = np.zeros((new_height, new_width, c), dtype=img.dtype)\n",
    "\telse:\n",
    "\t\tresized = np.zeros((new_height, new_width), dtype=img.dtype)\n",
    "\n",
    "\tfor i in range(new_height):\n",
    "\t\tfor j in range(new_width):\n",
    "\t\t\tsrc_x = int(j * w / new_width)\n",
    "\t\t\tsrc_y = int(i * h / new_height)\n",
    "\t\t\tsrc_x = min(src_x, w - 1)\n",
    "\t\t\tsrc_y = min(src_y, h - 1)\n",
    "\t\t\tresized[i, j] = img[src_y, src_x]\n",
    "\treturn resized"
   ]
  },
  {
   "cell_type": "code",
   "execution_count": 25,
   "id": "125346c1",
   "metadata": {},
   "outputs": [],
   "source": [
    "def bgr_to_rgb(img):\n",
    "\treturn img[..., ::-1]"
   ]
  },
  {
   "cell_type": "code",
   "execution_count": 27,
   "id": "f670dcb0",
   "metadata": {},
   "outputs": [],
   "source": [
    "import cv2\n",
    "import mediapipe as mp\n",
    "\n",
    "mp_face_detection = mp.solutions.face_detection\n",
    "mp_drawing = mp.solutions.drawing_utils\n",
    "\n",
    "face_detection = mp_face_detection.FaceDetection(\n",
    "\tmodel_selection=1,\n",
    "\tmin_detection_confidence=0.5\n",
    ")\n",
    "\n",
    "image = cv2.imread('./Data/1 (10).jpg')\n",
    "image_rgb = bgr_to_rgb(image)\n",
    "\n",
    "results = face_detection.process(image_rgb)\n",
    "\n",
    "if results.detections:\n",
    "\tfor i, detection in enumerate(results.detections):\n",
    "\t\tbboxC = detection.location_data.relative_bounding_box\n",
    "\t\tih, iw, _ = image.shape\n",
    "\n",
    "\t\tx = int(bboxC.xmin * iw)\n",
    "\t\ty = int(bboxC.ymin * ih)\n",
    "\t\tw = int(bboxC.width * iw)\n",
    "\t\th = int(bboxC.height * ih)\n",
    "\n",
    "\t\tface_img = image[y:y+h, x:x+w]\n",
    "\t\tface_img = resize_image(histogram_equalization(face_img), 300, 300)\n",
    "\t\tcv2.imwrite(f'face_{i}.jpg', face_img)"
   ]
  },
  {
   "cell_type": "markdown",
   "id": "e0f5aae6",
   "metadata": {},
   "source": []
  }
 ],
 "metadata": {
  "kernelspec": {
   "display_name": "dptVenv",
   "language": "python",
   "name": "python3"
  },
  "language_info": {
   "codemirror_mode": {
    "name": "ipython",
    "version": 3
   },
   "file_extension": ".py",
   "mimetype": "text/x-python",
   "name": "python",
   "nbconvert_exporter": "python",
   "pygments_lexer": "ipython3",
   "version": "3.11.4"
  }
 },
 "nbformat": 4,
 "nbformat_minor": 5
}
